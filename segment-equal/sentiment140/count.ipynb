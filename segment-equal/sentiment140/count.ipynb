{
 "cells": [
  {
   "cell_type": "code",
   "execution_count": 12,
   "metadata": {},
   "outputs": [],
   "source": [
    "%matplotlib inline\n",
    "from keras.datasets import imdb\n",
    "import matplotlib.pyplot as plt\n",
    "import numpy as np\n",
    "import nltk\n",
    "from sklearn.model_selection import train_test_split\n",
    "import collections\n",
    "from keras.utils import np_utils\n",
    "\n",
    "max_length = 0"
   ]
  },
  {
   "cell_type": "code",
   "execution_count": 13,
   "metadata": {},
   "outputs": [],
   "source": [
    "with open('./data/training.1600000.processed.noemoticon.csv', 'r', encoding='ISO-8859-1') as f:\n",
    "    data = f.readlines()\n",
    "    data = [data[i].rstrip('\\n').split(',', 5) for i in range(0, len(data), 20)]\n",
    "y = np.array([int(v[0].strip('\"')) for v in data])\n",
    "y = np.where(y==4, 1, y)\n",
    "data = [v[-1].strip('\"').replace('.', '').replace(',', '') for v in data]\n",
    "\n",
    "word_freq = collections.Counter()\n",
    "data_num = len(data)\n",
    "for row in data:\n",
    "    words = nltk.word_tokenize(row.strip().lower())\n",
    "    max_length = max(max_length, len(words))\n",
    "    for word in words:\n",
    "        if word not in word_freq:\n",
    "            word_freq[word] = 0\n",
    "        word_freq[word] += 1\n",
    "\n",
    "segment_len = min(9999, max_length)\n",
    "vocab_size = len(word_freq) + 2\n",
    "word2index = {x: i+2 for i, x in enumerate(word_freq)}\n",
    "word2index[\"PAD\"] = 0\n",
    "word2index[\"UNK\"] = 1\n",
    "index2word = {v:k for k, v in word2index.items()}\n",
    "\n",
    "x = np.empty(data_num, dtype=list)\n",
    "for i, sentence in enumerate(data):\n",
    "    words = nltk.word_tokenize(sentence.strip().lower())\n",
    "    seqs = []\n",
    "    for word in words:\n",
    "        if word in word2index:\n",
    "            seqs.append(word2index[word])\n",
    "        else:\n",
    "            seqs.append(word2index[\"UNK\"])\n",
    "    x[i] = seqs\n",
    "\n",
    "y = np_utils.to_categorical(y, 2)\n",
    "\n",
    "tmp_x, te_x, tmp_y, te_y = train_test_split(x, y, test_size=0.2, random_state=1)"
   ]
  },
  {
   "cell_type": "code",
   "execution_count": 14,
   "metadata": {},
   "outputs": [
    {
     "name": "stdout",
     "output_type": "stream",
     "text": [
      "112\n"
     ]
    },
    {
     "data": {
      "image/png": "[encoded data removed]",
      "text/plain": [
       "<Figure size 432x288 with 1 Axes>"
      ]
     },
     "metadata": {
      "needs_background": "light"
     },
     "output_type": "display_data"
    }
   ],
   "source": [
    "print(max_length)\n",
    "length = [0] * max_length\n",
    "for x in tmp_x:\n",
    "    length[len(x)-1] += 1\n",
    "\n",
    "plt.bar([i for i in range(max_length)], length)\n",
    "plt.show()"
   ]
  },
  {
   "cell_type": "code",
   "execution_count": 23,
   "metadata": {},
   "outputs": [
    {
     "name": "stdout",
     "output_type": "stream",
     "text": [
      "112\n",
      "0.13657045200892856\n"
     ]
    }
   ],
   "source": [
    "# count usable ratio with max length\n",
    "print(max_length)\n",
    "print(sum([len(v) for v in tmp_x]) / (max_length*len(tmp_x)))\n",
    "# print(sum([len(v) for v in tmp_x]) / (40*len(tmp_x)))"
   ]
  },
  {
   "cell_type": "code",
   "execution_count": 26,
   "metadata": {},
   "outputs": [
    {
     "name": "stdout",
     "output_type": "stream",
     "text": [
      "22\n"
     ]
    }
   ],
   "source": [
    "tmp = 0\n",
    "for idx, v in enumerate(length):\n",
    "    tmp += v\n",
    "    if tmp > len(tmp_x) * 0.8:\n",
    "        print(idx)\n",
    "        break"
   ]
  },
  {
   "cell_type": "code",
   "execution_count": null,
   "metadata": {},
   "outputs": [],
   "source": []
  }
 ],
 "metadata": {
  "kernelspec": {
   "display_name": "Python 3",
   "language": "python",
   "name": "python3"
  },
  "language_info": {
   "codemirror_mode": {
    "name": "ipython",
    "version": 3
   },
   "file_extension": ".py",
   "mimetype": "text/x-python",
   "name": "python",
   "nbconvert_exporter": "python",
   "pygments_lexer": "ipython3",
   "version": "3.6.8"
  }
 },
 "nbformat": 4,
 "nbformat_minor": 2
}
