{
 "cells": [
  {
   "cell_type": "code",
   "execution_count": 1,
   "metadata": {},
   "outputs": [
    {
     "name": "stderr",
     "output_type": "stream",
     "text": [
      "Using TensorFlow backend.\n"
     ]
    }
   ],
   "source": [
    "%matplotlib inline\n",
    "from keras.datasets import imdb\n",
    "import matplotlib.pyplot as plt\n",
    "import numpy as np\n",
    "import nltk\n",
    "from sklearn.model_selection import train_test_split\n",
    "\n",
    "max_length = 0"
   ]
  },
  {
   "cell_type": "code",
   "execution_count": 2,
   "metadata": {},
   "outputs": [],
   "source": [
    "with open('./data/training.txt', 'r') as f:\n",
    "    data = [v.rstrip('\\n').split('\\t') for v in f.readlines()]\n",
    "\n",
    "word_freq = dict()\n",
    "data_num = len(data)\n",
    "for row in data:\n",
    "    words = nltk.word_tokenize(row[1].strip().lower())\n",
    "    max_length = max(max_length, len(words))\n",
    "    for word in words:\n",
    "        if word not in word_freq:\n",
    "            word_freq[word] = 0\n",
    "        word_freq[word] += 1\n",
    "\n",
    "segment_len = min(9999, max_length)\n",
    "vocab_size = len(word_freq) + 2\n",
    "word2index = {x: i+2 for i, x in enumerate(word_freq)}\n",
    "word2index[\"PAD\"] = 0\n",
    "word2index[\"UNK\"] = 1\n",
    "index2word = {v:k for k, v in word2index.items()}\n",
    "\n",
    "x = np.empty(data_num, dtype=list)\n",
    "y = np.zeros(data_num)\n",
    "for i, row in enumerate(data):\n",
    "    label, sentence = row\n",
    "    words = nltk.word_tokenize(sentence.strip().lower())\n",
    "    seqs = []\n",
    "    for word in words:\n",
    "        if word in word2index:\n",
    "            seqs.append(word2index[word])\n",
    "        else:\n",
    "            seqs.append(word2index[\"UNK\"])\n",
    "    x[i] = seqs\n",
    "    y[i] = int(label)\n",
    "\n",
    "tmp_x, te_x, tmp_y, te_y = train_test_split(x, y, test_size=0.2, random_state=1)"
   ]
  },
  {
   "cell_type": "code",
   "execution_count": 3,
   "metadata": {},
   "outputs": [
    {
     "data": {
      "image/png": "[encoded data removed]",
      "text/plain": [
       "<Figure size 432x288 with 1 Axes>"
      ]
     },
     "metadata": {
      "needs_background": "light"
     },
     "output_type": "display_data"
    }
   ],
   "source": [
    "length = [0] * max_length\n",
    "for x in tmp_x:\n",
    "    length[len(x)-1] += 1\n",
    "\n",
    "plt.bar([i for i in range(max_length)], length)\n",
    "plt.show()"
   ]
  },
  {
   "cell_type": "code",
   "execution_count": 8,
   "metadata": {},
   "outputs": [
    {
     "name": "stdout",
     "output_type": "stream",
     "text": [
      "42\n",
      "0.303689047955103\n"
     ]
    }
   ],
   "source": [
    "# count usable ratio with max length\n",
    "print(max_length)\n",
    "print(sum([len(v) for v in tmp_x]) / (max_length*len(tmp_x)))\n",
    "# print(sum([len(v) for v in tmp_x]) / (36*len(tmp_x)))"
   ]
  },
  {
   "cell_type": "code",
   "execution_count": 6,
   "metadata": {},
   "outputs": [
    {
     "name": "stdout",
     "output_type": "stream",
     "text": [
      "36\n"
     ]
    }
   ],
   "source": [
    "tmp = 0\n",
    "for idx, v in enumerate(length):\n",
    "    tmp += v\n",
    "    if tmp > len(tmp_x) * 0.995:\n",
    "        print(idx)\n",
    "        break"
   ]
  },
  {
   "cell_type": "code",
   "execution_count": null,
   "metadata": {},
   "outputs": [],
   "source": []
  }
 ],
 "metadata": {
  "kernelspec": {
   "display_name": "Python 3",
   "language": "python",
   "name": "python3"
  },
  "language_info": {
   "codemirror_mode": {
    "name": "ipython",
    "version": 3
   },
   "file_extension": ".py",
   "mimetype": "text/x-python",
   "name": "python",
   "nbconvert_exporter": "python",
   "pygments_lexer": "ipython3",
   "version": "3.6.8"
  }
 },
 "nbformat": 4,
 "nbformat_minor": 2
}
