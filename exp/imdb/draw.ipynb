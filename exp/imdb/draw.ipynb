{
 "cells": [
  {
   "cell_type": "code",
   "execution_count": 22,
   "metadata": {
    "scrolled": false
   },
   "outputs": [
    {
     "data": {
      "image/png": "[encoded data removed]",
      "text/plain": [
       "<Figure size 1440x432 with 2 Axes>"
      ]
     },
     "metadata": {
      "needs_background": "light"
     },
     "output_type": "display_data"
    }
   ],
   "source": [
    "%matplotlib inline\n",
    "import numpy as np\n",
    "import matplotlib.pyplot as plt\n",
    "\n",
    "x = []\n",
    "acc = []\n",
    "accstd = []\n",
    "auc = []\n",
    "epoch = []\n",
    "time = []\n",
    "timestd = []\n",
    "\n",
    "neuron_type = 'lstm'\n",
    "\n",
    "with open(f'./log/{neuron_type}/full/all.log', 'r') as f:\n",
    "    log = [v.rstrip('\\n') for v in f.readlines()]\n",
    "x.append('full')\n",
    "acc.append(float(log[0][15:]))\n",
    "accstd.append(float(log[1][14:]))\n",
    "auc.append(float(log[2][15:]))\n",
    "epoch.append(float(log[4][15:]))\n",
    "time.append(float(log[5][14:]))\n",
    "timestd.append(float(log[6][14:]))\n",
    "\n",
    "# for i in range(3, 80, 3):\n",
    "#     with open(f'./log/{neuron_type}/resample/segment-1/{i}.all.log', 'r') as f:\n",
    "#         log = [v.rstrip('\\n') for v in f.readlines()]\n",
    "#     x.append(f'{i}')\n",
    "#     acc.append(float(log[0][15:]))\n",
    "#     accstd.append(float(log[1][14:]))\n",
    "#     auc.append(float(log[2][15:]))\n",
    "#     epoch.append(float(log[4][15:]))\n",
    "#     # time.append(float(log[5][14:]))\n",
    "#     time.append(float(log[7][18:]))\n",
    "#     timestd.append(float(log[8][18:]))\n",
    "# for i in range(80, 201, 15):\n",
    "#     with open(f'./log/{neuron_type}/resample/segment-1/{i}.all.log', 'r') as f:\n",
    "#         log = [v.rstrip('\\n') for v in f.readlines()]\n",
    "#     x.append(f'{i}')\n",
    "#     acc.append(float(log[0][15:]))\n",
    "#     accstd.append(float(log[1][14:]))\n",
    "#     auc.append(float(log[2][15:]))\n",
    "#     epoch.append(float(log[4][15:]))\n",
    "#     # time.append(float(log[5][14:]))\n",
    "#     time.append(float(log[7][18:]))\n",
    "#     timestd.append(float(log[8][18:]))\n",
    "# for i in range(5, 146, 5):\n",
    "#     with open(f'./log/{neuron_type}/resample/segment-1/{i}.all.log', 'r') as f:\n",
    "#         log = [v.rstrip('\\n') for v in f.readlines()]\n",
    "#     x.append(f'{i}')\n",
    "#     acc.append(float(log[0][15:]))\n",
    "#     accstd.append(float(log[1][14:]))\n",
    "#     auc.append(float(log[2][15:]))\n",
    "#     epoch.append(float(log[4][15:]))\n",
    "#     # time.append(float(log[5][14:]))\n",
    "#     time.append(float(log[7][18:]))\n",
    "#     timestd.append(float(log[8][18:]))\n",
    "\n",
    "for i in range(3, 80, 3):\n",
    "    with open(f'./log/{neuron_type}/non_resample/segment-1/{i}.all.log', 'r') as f:\n",
    "        log = [v.rstrip('\\n') for v in f.readlines()]\n",
    "    x.append(f' {i}')\n",
    "    acc.append(float(log[0][15:]))\n",
    "    auc.append(float(log[2][15:]))\n",
    "    epoch.append(float(log[4][15:]))\n",
    "    time.append(float(log[5][14:]))\n",
    "for i in range(80, 201, 15):\n",
    "    with open(f'./log/{neuron_type}/non_resample/segment-1/{i}.all.log', 'r') as f:\n",
    "        log = [v.rstrip('\\n') for v in f.readlines()]\n",
    "    x.append(f' {i}')\n",
    "    acc.append(float(log[0][15:]))\n",
    "    auc.append(float(log[2][15:]))\n",
    "    epoch.append(float(log[4][15:]))\n",
    "    # time.append(float(log[5][14:]))\n",
    "    time.append(float(log[5][14:]))\n",
    "\n",
    "fig, ax1 = plt.subplots(figsize=(20, 6))\n",
    "color = 'tab:red'\n",
    "ax1.set_xlabel('length')\n",
    "ax1.set_ylabel('acc', color=color)\n",
    "ax1.scatter(x, acc, color='red')\n",
    "ax1.plot(x, [acc[0]]*len(x), color='orange')\n",
    "ax1.tick_params(axis='y', labelcolor=color)\n",
    "ax1.set_yticks([])\n",
    "\n",
    "ax2 = ax1.twinx()\n",
    "\n",
    "color = 'tab:blue'\n",
    "ax2.set_ylabel('time', color=color)\n",
    "ax2.bar(x, time, color=color, alpha=0.3)\n",
    "ax2.plot(x, [time[0]]*len(x), color='black', alpha=0.3)\n",
    "ax2.tick_params(axis='y', labelcolor=color)\n",
    "# ax2.set_yticks([])\n",
    "\n",
    "fig.tight_layout()\n",
    "plt.show()\n",
    "fig.clf()"
   ]
  },
  {
   "cell_type": "code",
   "execution_count": null,
   "metadata": {},
   "outputs": [],
   "source": []
  }
 ],
 "metadata": {
  "kernelspec": {
   "display_name": "Python 3",
   "language": "python",
   "name": "python3"
  },
  "language_info": {
   "codemirror_mode": {
    "name": "ipython",
    "version": 3
   },
   "file_extension": ".py",
   "mimetype": "text/x-python",
   "name": "python",
   "nbconvert_exporter": "python",
   "pygments_lexer": "ipython3",
   "version": "3.6.8"
  }
 },
 "nbformat": 4,
 "nbformat_minor": 2
}
