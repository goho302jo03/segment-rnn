{
 "cells": [
  {
   "cell_type": "code",
   "execution_count": 1,
   "metadata": {},
   "outputs": [
    {
     "name": "stderr",
     "output_type": "stream",
     "text": [
      "Using TensorFlow backend.\n"
     ]
    }
   ],
   "source": [
    "%matplotlib inline\n",
    "from keras.datasets import imdb\n",
    "import matplotlib.pyplot as plt\n",
    "import numpy as np\n",
    "\n",
    "max_length = 2494"
   ]
  },
  {
   "cell_type": "code",
   "execution_count": 2,
   "metadata": {},
   "outputs": [
    {
     "data": {
      "image/png": "[encoded data removed]",
      "text/plain": [
       "<Figure size 432x288 with 1 Axes>"
      ]
     },
     "metadata": {
      "needs_background": "light"
     },
     "output_type": "display_data"
    }
   ],
   "source": [
    "# show length distribution\n",
    "\n",
    "(tmp_x, tmp_y), (te_x, te_y) = imdb.load_data(num_words=20000)\n",
    "length = [0] * max_length\n",
    "for x in tmp_x:\n",
    "    length[len(x)-1] += 1\n",
    "\n",
    "plt.bar([i for i in range(max_length)], length)\n",
    "plt.show()"
   ]
  },
  {
   "cell_type": "code",
   "execution_count": 16,
   "metadata": {},
   "outputs": [
    {
     "name": "stdout",
     "output_type": "stream",
     "text": [
      "2494\n",
      "0.0957151724137931\n",
      "0.26375662222222224\n"
     ]
    }
   ],
   "source": [
    "# count usable ratio with max length\n",
    "print(max_length)\n",
    "print(sum([len(v) for v in tmp_x]) / (max_length*len(tmp_x)))\n",
    "# print(sum([min(len(v), 900) for v in tmp_x]) / (900*len(tmp_x)))"
   ]
  },
  {
   "cell_type": "code",
   "execution_count": 17,
   "metadata": {},
   "outputs": [
    {
     "name": "stdout",
     "output_type": "stream",
     "text": [
      "0.26375662222222224\n"
     ]
    }
   ],
   "source": [
    "# count usable ratio with length 200\n",
    "\n",
    "print(sum([min(len(v), 900) for v in tmp_x]) / (900*len(tmp_x)))"
   ]
  },
  {
   "cell_type": "code",
   "execution_count": 15,
   "metadata": {},
   "outputs": [
    {
     "name": "stdout",
     "output_type": "stream",
     "text": [
      "925\n"
     ]
    }
   ],
   "source": [
    "tmp = 0\n",
    "for idx, v in enumerate(length):\n",
    "    tmp += v\n",
    "    if tmp > len(tmp_x) * 0.99:\n",
    "        print(idx)\n",
    "        break"
   ]
  },
  {
   "cell_type": "code",
   "execution_count": null,
   "metadata": {},
   "outputs": [],
   "source": []
  }
 ],
 "metadata": {
  "kernelspec": {
   "display_name": "Python 3",
   "language": "python",
   "name": "python3"
  },
  "language_info": {
   "codemirror_mode": {
    "name": "ipython",
    "version": 3
   },
   "file_extension": ".py",
   "mimetype": "text/x-python",
   "name": "python",
   "nbconvert_exporter": "python",
   "pygments_lexer": "ipython3",
   "version": "3.6.8"
  }
 },
 "nbformat": 4,
 "nbformat_minor": 2
}
